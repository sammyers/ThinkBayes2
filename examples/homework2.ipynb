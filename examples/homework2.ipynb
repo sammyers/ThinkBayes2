{
 "cells": [
  {
   "cell_type": "markdown",
   "metadata": {},
   "source": [
    "# Think Bayes\n",
    "\n",
    "This notebook presents example code and exercise solutions for Think Bayes.\n",
    "\n",
    "Copyright 2016 Allen B. Downey\n",
    "\n",
    "MIT License: https://opensource.org/licenses/MIT"
   ]
  },
  {
   "cell_type": "code",
   "execution_count": 3,
   "metadata": {},
   "outputs": [],
   "source": [
    "# Configure Jupyter so figures appear in the notebook\n",
    "%matplotlib inline\n",
    "\n",
    "# Configure Jupyter to display the assigned value after an assignment\n",
    "%config InteractiveShell.ast_node_interactivity='last_expr_or_assign'\n",
    "\n",
    "# import classes from thinkbayes2\n",
    "from thinkbayes2 import Pmf, Cdf, Suite\n",
    "\n",
    "import thinkplot"
   ]
  },
  {
   "cell_type": "markdown",
   "metadata": {},
   "source": [
    "## Dungeons and Dragons"
   ]
  },
  {
   "cell_type": "code",
   "execution_count": 4,
   "metadata": {},
   "outputs": [],
   "source": [
    "def Min(cdf, k):\n",
    "    return Cdf(cdf.xs, 1 - (1 - cdf.ps)**k)\n",
    "\n",
    "def get_prob_of_max_and_min(num_players, extrema):\n",
    "    \"\"\"Return the probability of a given maximum and minimum, given a certain number of players\"\"\"\n",
    "    maximum, minimum = extrema\n",
    "    d6 = Pmf(range(1, 7))\n",
    "    thrice = sum([d6] * 3)\n",
    "    cdf = Cdf(thrice)\n",
    "    best = cdf.Max(6 * num_players)\n",
    "    worst = Min(cdf, 6 * num_players)\n",
    "    return best[maximum] * worst[minimum]\n",
    "\n",
    "class DnDSession(Suite):\n",
    "    \n",
    "    def Likelihood(self, data, hypo):\n",
    "        \"\"\"Computes the likelihood of the data under the hypothesis.\n",
    "        \n",
    "        data: the maximum and minimum of the party's character attributes\n",
    "        hypo: number of players in the group\n",
    "        \"\"\"\n",
    "        return get_prob_of_max_and_min(hypo, data)"
   ]
  },
  {
   "cell_type": "code",
   "execution_count": 5,
   "metadata": {},
   "outputs": [
    {
     "name": "stderr",
     "output_type": "stream",
     "text": [
      "No handles with labels found to put in legend.\n"
     ]
    },
    {
     "data": {
      "image/png": "[encoded data removed]",
      "text/plain": [
       "<Figure size 432x288 with 1 Axes>"
      ]
     },
     "metadata": {},
     "output_type": "display_data"
    }
   ],
   "source": [
    "player = Pmf({1: 0.7, 0: 0.3})\n",
    "prior = DnDSession(sum([player] * 10))\n",
    "thinkplot.Hist(prior)\n",
    "thinkplot.Config(xlabel='x', ylabel='PMF')"
   ]
  },
  {
   "cell_type": "code",
   "execution_count": 6,
   "metadata": {},
   "outputs": [
    {
     "name": "stderr",
     "output_type": "stream",
     "text": [
      "No handles with labels found to put in legend.\n"
     ]
    },
    {
     "data": {
      "image/png": "[encoded data removed]",
      "text/plain": [
       "<Figure size 432x288 with 1 Axes>"
      ]
     },
     "metadata": {},
     "output_type": "display_data"
    }
   ],
   "source": [
    "posterior = prior.Copy()\n",
    "posterior[0] = 0\n",
    "posterior[1] = 0\n",
    "posterior.Update((16, 5))\n",
    "thinkplot.Hist(prior, color='gray')\n",
    "thinkplot.Hist(posterior)\n",
    "thinkplot.Config(xlabel='x', ylabel='PMF')"
   ]
  },
  {
   "cell_type": "markdown",
   "metadata": {},
   "source": [
    "## Cat Allergies"
   ]
  },
  {
   "cell_type": "code",
   "execution_count": 7,
   "metadata": {},
   "outputs": [
    {
     "data": {
      "image/png": "[encoded data removed]",
      "text/plain": [
       "<Figure size 432x288 with 1 Axes>"
      ]
     },
     "metadata": {},
     "output_type": "display_data"
    }
   ],
   "source": [
    "allergic = Pmf({1: 0.5, 0: 0.5})\n",
    "non_allergic = Pmf({1: 0.1, 0: 0.9})\n",
    "\n",
    "sneezes = sum([allergic] * 4) + sum([non_allergic] * 6)\n",
    "\n",
    "thinkplot.Hist(sneezes)"
   ]
  },
  {
   "cell_type": "markdown",
   "metadata": {},
   "source": [
    "## Gluten"
   ]
  },
  {
   "cell_type": "code",
   "execution_count": 19,
   "metadata": {},
   "outputs": [],
   "source": [
    "ALLERGIC_LIKELIHOOD = 0.95\n",
    "NON_ALLERGIC_LIKELIHOOD = 0.4\n",
    "\n",
    "class GlutenStudy(Suite):\n",
    "    \n",
    "    def Likelihood(self, data, hypo):\n",
    "        \"\"\"Computes the likelihood of the data under the hypothesis.\n",
    "        \n",
    "        data: the number of people who correctly identified the gluten flour\n",
    "        hypo: the number of gluten-sensitive people\n",
    "        \"\"\"\n",
    "        allergic = Pmf({1: ALLERGIC_LIKELIHOOD, 0: 1-ALLERGIC_LIKELIHOOD})\n",
    "        non_allergic = Pmf({1: NON_ALLERGIC_LIKELIHOOD, 0: 1-NON_ALLERGIC_LIKELIHOOD})\n",
    "        dist = sum([allergic] * hypo + [non_allergic] * (34 - hypo))\n",
    "        return dist[data]"
   ]
  },
  {
   "cell_type": "code",
   "execution_count": 20,
   "metadata": {},
   "outputs": [
    {
     "data": {
      "image/png": "[encoded data removed]",
      "text/plain": [
       "<Figure size 432x288 with 1 Axes>"
      ]
     },
     "metadata": {},
     "output_type": "display_data"
    }
   ],
   "source": [
    "subject = Pmf({1: 0.5, 0: 0.5}) # Assuming 50% likely to be gluten-sensitive as a prior, probably not really true\n",
    "prior = GlutenStudy(sum([subject] * 34))\n",
    "thinkplot.Hist(prior)"
   ]
  },
  {
   "cell_type": "code",
   "execution_count": 21,
   "metadata": {},
   "outputs": [
    {
     "data": {
      "image/png": "[encoded data removed]",
      "text/plain": [
       "<Figure size 432x288 with 1 Axes>"
      ]
     },
     "metadata": {},
     "output_type": "display_data"
    }
   ],
   "source": [
    "posterior = prior.Copy()\n",
    "posterior.Update(12)\n",
    "posterior.Normalize()\n",
    "thinkplot.Hist(posterior)"
   ]
  },
  {
   "cell_type": "markdown",
   "metadata": {},
   "source": [
    "## Height"
   ]
  },
  {
   "cell_type": "code",
   "execution_count": null,
   "metadata": {},
   "outputs": [],
   "source": []
  }
 ],
 "metadata": {
  "kernelspec": {
   "display_name": "Python 3",
   "language": "python",
   "name": "python3"
  },
  "language_info": {
   "codemirror_mode": {
    "name": "ipython",
    "version": 3
   },
   "file_extension": ".py",
   "mimetype": "text/x-python",
   "name": "python",
   "nbconvert_exporter": "python",
   "pygments_lexer": "ipython3",
   "version": "3.6.5"
  }
 },
 "nbformat": 4,
 "nbformat_minor": 1
}
