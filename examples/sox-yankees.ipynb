{
 "cells": [
  {
   "cell_type": "markdown",
   "metadata": {},
   "source": [
    "# Homework 1: Predicting Sox-Yankees\n"
   ]
  },
  {
   "cell_type": "code",
   "execution_count": 2,
   "metadata": {},
   "outputs": [],
   "source": [
    "from __future__ import print_function, division\n",
    "\n",
    "% matplotlib inline\n",
    "import warnings\n",
    "warnings.filterwarnings('ignore')\n",
    "\n",
    "import numpy as np\n",
    "\n",
    "from thinkbayes2 import Pmf, Cdf, Suite\n",
    "import thinkplot"
   ]
  },
  {
   "cell_type": "markdown",
   "metadata": {},
   "source": [
    "The Boston Red Sox and the New York Yankees have a storied rivalry spanning decades, and the two teams might finally play each other in the playoffs for the first time since 2004. For the purposes of this problem we will assume the Yankees will win the Wild Card Game (no offense, Oakland A's) and play the Red Sox (who have clinched the division) in the Division Series. Before that, though, the Sox and Yankees play a series spanning the last 3 days of the regular season at Fenway Park.\n",
    "\n",
    "So far this year, each time these teams have played a 3-game series, the home team has won 2 of 3 games. We aim to find how, if the Red Sox win 2 of 3 games at Fenway again, the outcome of this series will alter our prediction of the Red Sox's probability to win the Division Series a few days later.\n",
    "\n",
    "Specifically, we seek to find the probability that the Red Sox beat the Yankees in the Division Series, provided they beat the Yankees in the final regular season series."
   ]
  },
  {
   "cell_type": "code",
   "execution_count": 55,
   "metadata": {},
   "outputs": [],
   "source": [
    "from random import random\n",
    "\n",
    "class Games(Suite):\n",
    "\n",
    "    def Likelihood(self, data, hypo):\n",
    "        \"\"\"Computes the likelihood of `data` given `hypo`.\n",
    "        \n",
    "        data: string 'W' or 'L'\n",
    "        hypo: probability of the Red Sox winning, 0-100\n",
    "        \n",
    "        returns: float\n",
    "        \"\"\"\n",
    "        if data == 'W':\n",
    "            return hypo / 100\n",
    "        else:\n",
    "            return 1 - hypo / 100\n",
    "\n",
    "\n",
    "def simulate_series(win_prob):\n",
    "    \"\"\"\n",
    "    Simulates a 5-game series based on a given probability that the Red Sox win each individual game.\n",
    "    Returns True or False, depending on whether or not they won.\n",
    "    \"\"\"\n",
    "    wins = 0\n",
    "    for i in range(5):\n",
    "        if random() < win_prob:\n",
    "            wins += 1\n",
    "        if wins == 3:\n",
    "            return True\n",
    "    return False\n",
    "\n",
    "\n",
    "def predict_series_prob(suite, num_iterations=10000):\n",
    "    \"\"\"\n",
    "    Calculates the probability of winning a 5-game series based on a given suite.\n",
    "    \"\"\"\n",
    "    series_wins = 0\n",
    "\n",
    "    for i in range(num_iterations):\n",
    "        # Grab a random win percentage from the distribution, use it to simulate a series\n",
    "        win_prob = suite.Random() / 100\n",
    "        if simulate_series(win_prob):\n",
    "            series_wins += 1\n",
    "    \n",
    "    # Aggregate the results of our simulations\n",
    "    return series_wins / num_iterations"
   ]
  },
  {
   "cell_type": "markdown",
   "metadata": {},
   "source": [
    "We start with a uniform prior; this isn't really true in practice, since it's very unlikely any Red Sox team has a zero percent or 100 percent chance (or anywhere close to those extremes) of beating the Yankees, but it's probably good enough.\n",
    "\n",
    "These two teams have played each other 16 times so far in the season, and the Sox have won 9 of those games. "
   ]
  },
  {
   "cell_type": "code",
   "execution_count": 56,
   "metadata": {},
   "outputs": [],
   "source": [
    "suite = Games(range(0, 101))\n",
    "dataset = 'WLWLLWLWLWWWWLLW' # head-to-head record so far\n",
    "\n",
    "for data in dataset:\n",
    "    suite.Update(data)"
   ]
  },
  {
   "cell_type": "markdown",
   "metadata": {},
   "source": [
    "This is what the posterior looks like based on the first 16 games:"
   ]
  },
  {
   "cell_type": "code",
   "execution_count": 57,
   "metadata": {},
   "outputs": [
    {
     "data": {
      "image/png": "[encoded data removed]",
      "text/plain": [
       "<Figure size 432x288 with 1 Axes>"
      ]
     },
     "metadata": {},
     "output_type": "display_data"
    }
   ],
   "source": [
    "thinkplot.Pdf(suite)"
   ]
  },
  {
   "cell_type": "code",
   "execution_count": 58,
   "metadata": {},
   "outputs": [
    {
     "data": {
      "text/plain": [
       "55.55555555555914"
      ]
     },
     "execution_count": 58,
     "metadata": {},
     "output_type": "execute_result"
    }
   ],
   "source": [
    "suite.Mean()"
   ]
  },
  {
   "cell_type": "markdown",
   "metadata": {},
   "source": [
    "Intuitively, we imagine that over multiple games, the better team is more likely to win more games (and thus win a series) over that span than they are to win an individual game. This is reflected in our prediction relative to the mean:"
   ]
  },
  {
   "cell_type": "code",
   "execution_count": 46,
   "metadata": {},
   "outputs": [
    {
     "data": {
      "text/plain": [
       "0.5905"
      ]
     },
     "execution_count": 46,
     "metadata": {},
     "output_type": "execute_result"
    }
   ],
   "source": [
    "predict_series_prob(suite)"
   ]
  },
  {
   "cell_type": "markdown",
   "metadata": {},
   "source": [
    "Now we perform an update to reflect the Sox winning 2 out of 3 games:"
   ]
  },
  {
   "cell_type": "code",
   "execution_count": 47,
   "metadata": {},
   "outputs": [
    {
     "data": {
      "image/png": "[encoded data removed]",
      "text/plain": [
       "<Figure size 432x288 with 1 Axes>"
      ]
     },
     "metadata": {},
     "output_type": "display_data"
    }
   ],
   "source": [
    "for data in 'WWL':\n",
    "    suite.Update(data)\n",
    "    \n",
    "thinkplot.Pdf(suite)"
   ]
  },
  {
   "cell_type": "code",
   "execution_count": 48,
   "metadata": {},
   "outputs": [
    {
     "data": {
      "text/plain": [
       "57.14285714285721"
      ]
     },
     "execution_count": 48,
     "metadata": {},
     "output_type": "execute_result"
    }
   ],
   "source": [
    "suite.Mean()"
   ]
  },
  {
   "cell_type": "code",
   "execution_count": 49,
   "metadata": {},
   "outputs": [
    {
     "data": {
      "text/plain": [
       "0.6285"
      ]
     },
     "execution_count": 49,
     "metadata": {},
     "output_type": "execute_result"
    }
   ],
   "source": [
    "predict_series_prob(suite)"
   ]
  },
  {
   "cell_type": "markdown",
   "metadata": {},
   "source": [
    "Both the mean of the distribution and our series prediction got bumped up by a couple of percentage points. This is the direction we expected, but it also indicates that (at least based on our model) the predictive value of this particular series is not incredibly meaningful."
   ]
  },
  {
   "cell_type": "code",
   "execution_count": null,
   "metadata": {},
   "outputs": [],
   "source": []
  }
 ],
 "metadata": {
  "kernelspec": {
   "display_name": "Python 3",
   "language": "python",
   "name": "python3"
  },
  "language_info": {
   "codemirror_mode": {
    "name": "ipython",
    "version": 3
   },
   "file_extension": ".py",
   "mimetype": "text/x-python",
   "name": "python",
   "nbconvert_exporter": "python",
   "pygments_lexer": "ipython3",
   "version": "3.6.5"
  }
 },
 "nbformat": 4,
 "nbformat_minor": 2
}
