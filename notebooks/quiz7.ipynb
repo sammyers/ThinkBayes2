{
 "cells": [
  {
   "cell_type": "code",
   "execution_count": 64,
   "metadata": {},
   "outputs": [],
   "source": [
    "from thinkbayes2 import Suite, Joint, Pmf, Pdf, MakeNormalPmf, MakeJoint, MakeMixture\n",
    "import thinkplot\n",
    "import numpy as np\n",
    "from scipy.special import gamma\n",
    "from scipy.stats import norm"
   ]
  },
  {
   "cell_type": "code",
   "execution_count": 65,
   "metadata": {},
   "outputs": [],
   "source": [
    "class RainfallPdf(Pdf):\n",
    "    def __init__(self, k, theta):\n",
    "        self.k = k\n",
    "        self.theta = theta\n",
    "        \n",
    "    def Density(self, x):\n",
    "        return (x ** (self.k - 1)) * np.exp(-x / self.theta) / (gamma(self.k) * (self.theta ** self.k))"
   ]
  },
  {
   "cell_type": "markdown",
   "metadata": {},
   "source": [
    "#### Problem 1"
   ]
  },
  {
   "cell_type": "code",
   "execution_count": 66,
   "metadata": {},
   "outputs": [
    {
     "data": {
      "text/plain": [
       "0.09196986029286058"
      ]
     },
     "execution_count": 66,
     "metadata": {},
     "output_type": "execute_result"
    }
   ],
   "source": [
    "rainfall = RainfallPdf(k=3, theta=2)\n",
    "rainfall.Density(x=2)"
   ]
  },
  {
   "cell_type": "markdown",
   "metadata": {},
   "source": [
    "#### Problem 2"
   ]
  },
  {
   "cell_type": "code",
   "execution_count": 67,
   "metadata": {},
   "outputs": [],
   "source": [
    "class Rainfall(Suite, Joint):\n",
    "    def Likelihood(self, data, hypo):\n",
    "        k, theta = hypo\n",
    "        rainfall = RainfallPdf(k=k, theta=theta)\n",
    "        return rainfall.Density(data)"
   ]
  },
  {
   "cell_type": "code",
   "execution_count": 68,
   "metadata": {},
   "outputs": [
    {
     "name": "stdout",
     "output_type": "stream",
     "text": [
      "k Posterior Mean: 0.648610932627643\n",
      "theta Posterior Mean: 2.475030078710288\n"
     ]
    }
   ],
   "source": [
    "ks = np.linspace(0.1, 2, 101)\n",
    "thetas = np.linspace(0.1, 12, 101)\n",
    "\n",
    "k_prior = Pmf(dict(zip(ks, norm(0, 0.5).pdf(ks))))\n",
    "theta_prior = Pmf(dict(zip(thetas, norm(0, 4).pdf(thetas))))\n",
    "\n",
    "suite = Rainfall(MakeJoint(k_prior, theta_prior))\n",
    "suite.UpdateSet([0.78, 0.87, 0.64])\n",
    "\n",
    "print('k Posterior Mean:', suite.Marginal(0).Mean())\n",
    "print('theta Posterior Mean:', suite.Marginal(1).Mean())"
   ]
  },
  {
   "cell_type": "markdown",
   "metadata": {},
   "source": [
    "#### Problem 3"
   ]
  },
  {
   "cell_type": "code",
   "execution_count": 80,
   "metadata": {},
   "outputs": [
    {
     "name": "stderr",
     "output_type": "stream",
     "text": [
      "IOPub data rate exceeded.\n",
      "The notebook server will temporarily stop sending output\n",
      "to the client in order to avoid crashing it.\n",
      "To change this limit, set the config variable\n",
      "`--NotebookApp.iopub_data_rate_limit`.\n",
      "\n",
      "Current values:\n",
      "NotebookApp.iopub_data_rate_limit=1000000.0 (bytes/sec)\n",
      "NotebookApp.rate_limit_window=3.0 (secs)\n",
      "\n"
     ]
    },
    {
     "name": "stdout",
     "output_type": "stream",
     "text": [
      "0.7435687311183706\n"
     ]
    }
   ],
   "source": [
    "metapmf = Pmf()\n",
    "\n",
    "for hypo, prob in suite.Items():\n",
    "    k, theta = hypo\n",
    "    pdf = RainfallPdf(k=k, theta=theta)\n",
    "    values = np.linspace(0.01, 3, 101)\n",
    "    pmf = Pmf(dict(zip(values, pdf.Density(values))))\n",
    "    metapmf[pmf] = prob\n",
    "\n",
    "print(metapmf)\n",
    "    \n",
    "prediction = MakeMixture(metapmf)\n",
    "print(prediction.Mean())"
   ]
  },
  {
   "cell_type": "code",
   "execution_count": 81,
   "metadata": {},
   "outputs": [
    {
     "data": {
      "image/png": "[encoded data removed]",
      "text/plain": [
       "<Figure size 432x288 with 1 Axes>"
      ]
     },
     "metadata": {},
     "output_type": "display_data"
    }
   ],
   "source": [
    "thinkplot.Pdf(prediction)"
   ]
  },
  {
   "cell_type": "code",
   "execution_count": null,
   "metadata": {},
   "outputs": [],
   "source": []
  }
 ],
 "metadata": {
  "kernelspec": {
   "display_name": "Python 3",
   "language": "python",
   "name": "python3"
  },
  "language_info": {
   "codemirror_mode": {
    "name": "ipython",
    "version": 3
   },
   "file_extension": ".py",
   "mimetype": "text/x-python",
   "name": "python",
   "nbconvert_exporter": "python",
   "pygments_lexer": "ipython3",
   "version": "3.6.5"
  }
 },
 "nbformat": 4,
 "nbformat_minor": 2
}
